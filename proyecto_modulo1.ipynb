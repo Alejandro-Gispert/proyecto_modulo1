{
 "cells": [
  {
   "cell_type": "markdown",
   "metadata": {},
   "source": [
    "# Movimiento Armónico Amortiguado"
   ]
  },
  {
   "cell_type": "markdown",
   "metadata": {},
   "source": [
    "## Objetivo\n",
    "Se requiere determinar si el sistema oscilante dado resulta ser  críticamente amortiguado, sobreamortiguado y subamortiguado\n",
    "### Objetivos Específicos\n",
    "Se requiere saber el tiempo en el que la masa pas por la posición de equilibrio en el siguiente sistema y se necesita determinar el tiempo por el que la masa alcanza su desplazamiento extremo desde la posición de equilibrio y su posición en ese tiempo"
   ]
  },
  {
   "cell_type": "markdown",
   "metadata": {},
   "source": [
    "## Modelo\n",
    "En este caso la ecuación que describe a este modelo es la ecuación del Movimiento Armónico Amoriguado:\n",
    "mx'' + Bx' + kx = 0\n",
    "Donde: \n",
    "A un resorte con su extremo superior unido a un soporte fijo se le acopla un contrapeso en su otro extremo por lo cual:\n",
    "m: masa del contrapeso\n",
    "B: Coeficiente de friccion \n"
   ]
  },
  {
   "cell_type": "markdown",
   "metadata": {},
   "source": [
    "## Problema\n",
    "Una masa que pesa 4 lb se une a un resorte con una constante de muelle de 2 lb/ft. El medio ofrece una fuerza de amortiguamiento numéricamente igual a la velocidad del instantáneo, la masa se libera desde un punto situado un pie arriba de la posición de equilibrio con velocidad descendente de 8 ft/s. Desarrolle la ecuación para encontrar su grafica de velocidad y posición."
   ]
  },
  {
   "cell_type": "code",
   "execution_count": 8,
   "metadata": {},
   "outputs": [
    {
     "data": {
      "image/png": "[encoded data removed]",
      "text/plain": [
       "<Figure size 576x432 with 1 Axes>"
      ]
     },
     "metadata": {
      "needs_background": "light"
     },
     "output_type": "display_data"
    }
   ],
   "source": [
    "# se importan las librerias necesarias a utilizar\n",
    "import matplotlib.pyplot as plt        \n",
    "import numpy as np                      \n",
    "from scipy.integrate import odeint   \n",
    "import matplotlib as mpl\n",
    "%matplotlib inline\n",
    "\n",
    "#%% se definen los datos dados por el problema\n",
    "\n",
    "m = 1/8        # la masa es 1/8 ya que se convierte de lb a slugs         \n",
    "k = 2                                                  \n",
    "B = 1                                        \n",
    "\n",
    "y0 = [-1, 8]     # condiciones iniciales                       \n",
    "                     \n",
    "# Función f(t,y) \n",
    "def armonico(y, t, k, m, B):\n",
    "    y1 = y[0]\n",
    "    y2 = y[1]\n",
    "    return [y2, -k * y1 / m - B / m * y2]\n",
    "         \n",
    "\n",
    "# se definen los parametros necesarios para la gráfica\n",
    "tt = np.linspace(0, 3, 100)   \n",
    "\n",
    "yy = odeint(armonico, y0, tt, args=(k, m, B))\n",
    "\n",
    "yy.shape\n",
    "\n",
    "y1 = yy[:,0]\n",
    "y2 = yy[:,1]\n",
    "\n",
    "label_size = 14\n",
    "mpl.rcParams['xtick.labelsize'] = label_size \n",
    "mpl.rcParams['ytick.labelsize'] = label_size \n",
    "\n",
    "plt.figure(figsize=(8,6))\n",
    "plt.plot(tt, y1, 'b', label='posición')\n",
    "plt.plot(tt, y2, 'r', label='velocidad')\n",
    "plt.legend(loc='best')\n",
    "plt.xlabel('tiempo')\n",
    "plt.ylabel('X(t)')\n",
    "plt.grid()\n",
    "plt.show()\n",
    "\n"
   ]
  }
 ],
 "metadata": {
  "kernelspec": {
   "display_name": "Python 3",
   "language": "python",
   "name": "python3"
  },
  "language_info": {
   "codemirror_mode": {
    "name": "ipython",
    "version": 3
   },
   "file_extension": ".py",
   "mimetype": "text/x-python",
   "name": "python",
   "nbconvert_exporter": "python",
   "pygments_lexer": "ipython3",
   "version": "3.7.1"
  }
 },
 "nbformat": 4,
 "nbformat_minor": 2
}
